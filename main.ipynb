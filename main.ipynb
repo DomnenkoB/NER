{
 "cells": [
  {
   "cell_type": "code",
   "execution_count": 1,
   "metadata": {},
   "outputs": [
    {
     "name": "stderr",
     "output_type": "stream",
     "text": [
      "Using TensorFlow backend.\n",
      "WARNING: Logging before flag parsing goes to stderr.\n",
      "W0513 15:48:28.938076 11236 __init__.py:56] Some hub symbols are not available because TensorFlow version is less than 1.14\n"
     ]
    }
   ],
   "source": [
    "import warnings\n",
    "# warnings.filterwarnings('ignore')\n",
    "import pandas as pd\n",
    "import numpy as np\n",
    "from matplotlib import pyplot as plt\n",
    "from keras.preprocessing.sequence import pad_sequences\n",
    "from keras.utils import to_categorical, plot_model\n",
    "from keras.models import Model, Input\n",
    "from keras.layers import LSTM, Dense, TimeDistributed, Bidirectional, concatenate, SpatialDropout1D\n",
    "from keras_contrib.layers import CRF\n",
    "from keras_contrib.losses import crf_loss\n",
    "from sklearn.model_selection import train_test_split\n",
    "from sklearn.metrics.classification import classification_report\n",
    "from nltk import word_tokenize\n",
    "\n",
    "from model_utils import create_elmo_crf_model, save_model_weights, load_model_weights, get_embedding_layer\n",
    "\n",
    "\n",
    "plt.style.use(\"ggplot\")"
   ]
  },
  {
   "cell_type": "code",
   "execution_count": 2,
   "metadata": {},
   "outputs": [],
   "source": [
    "data = pd.read_csv(\"Data/ner_data.tsv\", encoding=\"latin-1\", sep=\"\\t\")\n",
    "load_model = True\n",
    "\n",
    "grouped_data = dict(list(data.groupby(\"sentence_id\")))\n",
    "sentences = [g[\"word\"].tolist() for k, g in grouped_data.items()]\n",
    "sentence_tags = [g[\"tag\"].tolist() for k, g in grouped_data.items()]"
   ]
  },
  {
   "cell_type": "code",
   "execution_count": 3,
   "metadata": {},
   "outputs": [
    {
     "name": "stdout",
     "output_type": "stream",
     "text": [
      "--------------------------------------------------\n",
      "Number of sentences: \t\t48335\n",
      "Number of unique words: \t34718\n",
      "Number of unique tags: \t\t16\n",
      "Number of unique chars: \t105\n",
      "--------------------------------------------------\n"
     ]
    }
   ],
   "source": [
    "words = [\"<PAD>\"] + list(data[\"word\"].unique())\n",
    "tags = [\"<PAD>\"] + list(data[\"tag\"].unique())\n",
    "chars = set([w_i for w in words for w_i in w])\n",
    "\n",
    "n_words = len(words)\n",
    "n_tags = len(tags)\n",
    "n_chars = len(chars)\n",
    "\n",
    "print(\"-\"*50)\n",
    "print(f\"Number of sentences: \\t\\t{len(sentences)}\")\n",
    "print(f\"Number of unique words: \\t{n_words}\")\n",
    "print(f\"Number of unique tags: \\t\\t{n_tags}\")\n",
    "print(f\"Number of unique chars: \\t{n_chars}\")\n",
    "print(\"-\"*50)"
   ]
  },
  {
   "cell_type": "code",
   "execution_count": 4,
   "metadata": {},
   "outputs": [
    {
     "data": {
      "image/png": "[encoded data removed]",
      "text/plain": [
       "<Figure size 1152x504 with 2 Axes>"
      ]
     },
     "metadata": {
      "needs_background": "light"
     },
     "output_type": "display_data"
    }
   ],
   "source": [
    "plt.figure(figsize=(16,7))\n",
    "\n",
    "plt.subplot(1, 2, 1)\n",
    "plt.title(\"Sentence length distribution\")\n",
    "plt.hist([len(s) for s in sentences], bins=50)\n",
    "\n",
    "plt.subplot(1, 2, 2)\n",
    "plt.title(\"Word length distribution\")\n",
    "plt.hist([len(w) for s in sentences for w in s], bins=50)\n",
    "\n",
    "plt.show()"
   ]
  },
  {
   "cell_type": "code",
   "execution_count": 5,
   "metadata": {},
   "outputs": [],
   "source": [
    "max_len = 50\n",
    "batch_size = 32\n",
    "\n",
    "tag2idx = {t: i for i, t in enumerate(tags)}\n",
    "idx2tag = {i: t for i, t in enumerate(tags)}"
   ]
  },
  {
   "cell_type": "code",
   "execution_count": 6,
   "metadata": {},
   "outputs": [],
   "source": [
    "X = [[w for w in s] for s in sentences]\n",
    "X = pad_sequences(X, maxlen=max_len, padding=\"post\", dtype=object, value=\"<PAD>\")\n",
    "y = [[tag2idx[t] for t in s] for s in sentence_tags]\n",
    "y = pad_sequences(y, maxlen=max_len, padding=\"post\", dtype=object, value=tag2idx[\"<PAD>\"])\n",
    "y = [to_categorical(x, num_classes=n_tags) for x in y]"
   ]
  },
  {
   "cell_type": "markdown",
   "metadata": {},
   "source": [
    "<h2>Here comes ELMo</h2>\n",
    "\n",
    "![elmo.jpg](attachment:elmo.jpg)"
   ]
  },
  {
   "cell_type": "code",
   "execution_count": 7,
   "metadata": {},
   "outputs": [
    {
     "name": "stdout",
     "output_type": "stream",
     "text": [
      "INFO:tensorflow:Saver not created because there are no variables in the graph to restore\n"
     ]
    },
    {
     "name": "stderr",
     "output_type": "stream",
     "text": [
      "I0513 15:49:39.088664 11236 tf_logging.py:115] Saver not created because there are no variables in the graph to restore\n"
     ]
    }
   ],
   "source": [
    "model = create_elmo_crf_model(n_tags=n_tags, max_len=max_len, \n",
    "                              batch_size=32, compile_model=True, elmo_path=\"Models/elmo2\")"
   ]
  },
  {
   "cell_type": "code",
   "execution_count": 8,
   "metadata": {},
   "outputs": [
    {
     "name": "stdout",
     "output_type": "stream",
     "text": [
      "__________________________________________________________________________________________________\n",
      "Layer (type)                    Output Shape         Param #     Connected to                     \n",
      "==================================================================================================\n",
      "input_1 (InputLayer)            (None, 50)           0                                            \n",
      "__________________________________________________________________________________________________\n",
      "lambda_1 (Lambda)               (None, 50, 1024)     0           input_1[0][0]                    \n",
      "__________________________________________________________________________________________________\n",
      "bidirectional_1 (Bidirectional) (None, 50, 1024)     6295552     lambda_1[0][0]                   \n",
      "__________________________________________________________________________________________________\n",
      "bidirectional_2 (Bidirectional) (None, 50, 1024)     6295552     bidirectional_1[0][0]            \n",
      "__________________________________________________________________________________________________\n",
      "add_1 (Add)                     (None, 50, 1024)     0           bidirectional_1[0][0]            \n",
      "                                                                 bidirectional_2[0][0]            \n",
      "__________________________________________________________________________________________________\n",
      "time_distributed_1 (TimeDistrib (None, 50, 512)      524800      add_1[0][0]                      \n",
      "__________________________________________________________________________________________________\n",
      "crf_1 (CRF)                     (None, 50, 16)       8496        time_distributed_1[0][0]         \n",
      "==================================================================================================\n",
      "Total params: 13,124,400\n",
      "Trainable params: 13,124,400\n",
      "Non-trainable params: 0\n",
      "__________________________________________________________________________________________________\n"
     ]
    }
   ],
   "source": [
    "model.summary()"
   ]
  },
  {
   "cell_type": "code",
   "execution_count": 9,
   "metadata": {},
   "outputs": [],
   "source": [
    "plot_model(model, show_shapes=True, to_file=\"model.png\")"
   ]
  },
  {
   "cell_type": "markdown",
   "metadata": {},
   "source": [
    "![model.png](attachment:model.png)"
   ]
  },
  {
   "cell_type": "markdown",
   "metadata": {},
   "source": [
    "![conv.png](attachment:conv.png)"
   ]
  },
  {
   "cell_type": "code",
   "execution_count": 10,
   "metadata": {},
   "outputs": [],
   "source": [
    "X_train, X_test, y_train, y_test = train_test_split(X, y, test_size=0.1, random_state=42)\n",
    "\n",
    "n_batches = len(X_train) // batch_size\n",
    "n_train_batches = int(0.99 * n_batches)\n",
    "n_val_batches = int(n_batches - n_train_batches)\n",
    "\n",
    "X_train, X_val = X_train[:n_train_batches*batch_size], X_train[-n_val_batches*batch_size:]\n",
    "y_train, y_val = y_train[:n_train_batches*batch_size], y_train[-n_val_batches*batch_size:]"
   ]
  },
  {
   "cell_type": "code",
   "execution_count": 11,
   "metadata": {},
   "outputs": [
    {
     "name": "stdout",
     "output_type": "stream",
     "text": [
      "Train on 43040 samples, validate on 448 samples\n",
      "Epoch 1/2\n",
      "43040/43040 [==============================] - 1520s 35ms/step - loss: 0.0517 - val_loss: 0.0232\n",
      "Epoch 2/2\n",
      "43040/43040 [==============================] - 1529s 36ms/step - loss: 0.0046 - val_loss: -0.0087\n"
     ]
    }
   ],
   "source": [
    "load_model = False\n",
    "\n",
    "if load_model:\n",
    "    load_model_weights(model, \"Models/ner_e2.h5\")\n",
    "else:\n",
    "    training = model.fit(np.array(X_train), np.array(y_train), \n",
    "                         validation_data=(np.array(X_val), np.array(y_val)), \n",
    "                         batch_size=batch_size, epochs=2, verbose=1)\n",
    "    save_model_weights(model, \"Models/ner_e2.h5\")"
   ]
  },
  {
   "cell_type": "code",
   "execution_count": 12,
   "metadata": {},
   "outputs": [],
   "source": [
    "X_test = X_test.tolist()\n",
    "# y_test = y_test.tolist()\n",
    "\n",
    "if len(X_test) % batch_size != 0:\n",
    "    m = len(X_test) % batch_size\n",
    "    for i in range(0, batch_size - m):\n",
    "        X_test.append([\"<PAD>\"]*max_len)\n",
    "        y_test.append([tag2idx[\"<PAD>\"]]*max_len)"
   ]
  },
  {
   "cell_type": "code",
   "execution_count": 13,
   "metadata": {},
   "outputs": [],
   "source": [
    "n_batches = len(X_test) // batch_size\n",
    "\n",
    "y_true, y_pred = [], []\n",
    "\n",
    "for n in range(n_batches):\n",
    "    x_batch = X_test[n:n+batch_size]\n",
    "    y_batch = y_test[n:n+batch_size]\n",
    "    \n",
    "    predictions = model.predict(np.array(x_batch))\n",
    "    \n",
    "    for i, prediction in enumerate(predictions):\n",
    "        p = np.argmax(prediction, axis=-1)\n",
    "        for w, pred, true in zip(x_batch[i], p, y_batch[i]):\n",
    "            y_true.append(np.argmax(true))\n",
    "            y_pred.append(pred)"
   ]
  },
  {
   "cell_type": "code",
   "execution_count": 20,
   "metadata": {},
   "outputs": [
    {
     "name": "stdout",
     "output_type": "stream",
     "text": [
      "Word            Pred \n",
      "------------------------------\n",
      "He             :O    \n",
      "has            :O    \n",
      "been           :O    \n",
      "working        :O    \n",
      "as             :O    \n",
      "a              :O    \n",
      "software       :B-pos\n",
      "developer      :I-pos\n",
      "since          :B-tim\n",
      "January        :I-tim\n",
      "2018           :I-tim\n"
     ]
    }
   ],
   "source": [
    "x_t = [[\"<PAD>\"] * max_len] * batch_size\n",
    "\n",
    "sentence = \"He has been working as a software developer since January 2018\"\n",
    "\n",
    "# sentence = \"red apple lies on the table\"\n",
    "# sentence = \"Apple is a great company\"\n",
    "# sentence = \"Have you been to Big Apple?\"\n",
    "tokens = word_tokenize(sentence)\n",
    "\n",
    "for i, token in enumerate(tokens):\n",
    "    x_t[0][i] = token\n",
    "    \n",
    "p = model.predict(np.array(x_t))[0]\n",
    "p = np.argmax(p, axis=-1)\n",
    "\n",
    "print(\"{:15} {:5}\".format(\"Word\", \"Pred\"))\n",
    "print(\"-\"*30)\n",
    "\n",
    "for w, pred in zip(x_t[0], p):\n",
    "    if w != \"<PAD>\":\n",
    "        print(\"{:15}:{:5}\".format(w, idx2tag[pred]))"
   ]
  }
 ],
 "metadata": {
  "kernelspec": {
   "display_name": "Python 3",
   "language": "python",
   "name": "python3"
  },
  "language_info": {
   "codemirror_mode": {
    "name": "ipython",
    "version": 3
   },
   "file_extension": ".py",
   "mimetype": "text/x-python",
   "name": "python",
   "nbconvert_exporter": "python",
   "pygments_lexer": "ipython3",
   "version": "3.6.6"
  }
 },
 "nbformat": 4,
 "nbformat_minor": 2
}
